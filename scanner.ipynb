{
 "cells": [
  {
   "cell_type": "code",
   "execution_count": null,
   "id": "2293b859",
   "metadata": {},
   "outputs": [],
   "source": [
    "import socket\n",
    "import threading\n",
    "\n",
    "N = 2**16 - 1\n",
    "\n",
    "\n",
    "def scanning(n):\n",
    "    print(\"Начат поток\", n)\n",
    "    for port in range(n-1000, n):\n",
    "        if port >= 1:\n",
    "            sock = socket.socket()\n",
    "            try:\n",
    "                print(\"Проверка порта \", port)\n",
    "                sock.connect(('127.0.0.1', port))\n",
    "                print(\"Порт\", port, \"открыт\")\n",
    "            except:\n",
    "                continue\n",
    "            finally:\n",
    "                sock.close()\n",
    "    print(\"Закрыт поток \", n)\n",
    "\n",
    "\n",
    "port_list = []\n",
    "i = 0\n",
    "m = 0\n",
    "while True:\n",
    "    if m <= N:\n",
    "        m += 1000\n",
    "        port_list.append(m)\n",
    "        i += 1\n",
    "    else:\n",
    "        port_list[i-1] = port_list[i-1] - 1000 + N % 1000\n",
    "        break\n",
    "\n",
    "print(port_list)\n",
    "threads = [threading.Thread(target=scanning, args=[n]) for n in port_list]\n",
    "[t.start() for t in threads]"
   ]
  }
 ],
 "metadata": {
  "kernelspec": {
   "display_name": "Python 3 (ipykernel)",
   "language": "python",
   "name": "python3"
  },
  "language_info": {
   "codemirror_mode": {
    "name": "ipython",
    "version": 3
   },
   "file_extension": ".py",
   "mimetype": "text/x-python",
   "name": "python",
   "nbconvert_exporter": "python",
   "pygments_lexer": "ipython3",
   "version": "3.9.12"
  }
 },
 "nbformat": 4,
 "nbformat_minor": 5
}
