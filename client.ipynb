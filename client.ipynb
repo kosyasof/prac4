{
 "cells": [
  {
   "cell_type": "code",
   "execution_count": null,
   "id": "76c261b9",
   "metadata": {},
   "outputs": [],
   "source": [
    "import socket\n",
    "import threading\n",
    "import datetime\n",
    "\n",
    "lock = threading.Lock()\n",
    "\n",
    "\n",
    "def send_interface():\n",
    "    global NICKNAME\n",
    "    msg = ''\n",
    "    print(\"===\\n\"\n",
    "          \"For closing the client type 'close'\\n\"\n",
    "          \"===\")\n",
    "    while True:\n",
    "        time = datetime.datetime.now().time()\n",
    "        msg = str(input(\"Message:\\n\"))\n",
    "        if msg != 'close':\n",
    "            output_data = str(time.strftime(\"%H:%M:%S \")) + NICKNAME + \": \" + msg\n",
    "            sock.send(output_data.encode())\n",
    "        else:\n",
    "            sock.close()\n",
    "            print(\"You closed the chat\")\n",
    "            break\n",
    "\n",
    "\n",
    "def receive_interface():\n",
    "    while True:\n",
    "        lock.acquire()\n",
    "        data = sock.recv(1024)\n",
    "        if data.decode() == 'bye':\n",
    "            break\n",
    "        print(data.decode())\n",
    "        if not data:\n",
    "            break\n",
    "        lock.release()\n",
    "\n",
    "\n",
    "NICKNAME = input(\"Enter your nickname:\\n\")\n",
    "sock = socket.socket()\n",
    "sock.setblocking(1)\n",
    "sock.connect(('localhost', 9090))\n",
    "\n",
    "threading.Thread(target=send_interface, daemon=False).start()\n",
    "threading.Thread(target=receive_interface, daemon=False).start()"
   ]
  }
 ],
 "metadata": {
  "kernelspec": {
   "display_name": "Python 3 (ipykernel)",
   "language": "python",
   "name": "python3"
  },
  "language_info": {
   "codemirror_mode": {
    "name": "ipython",
    "version": 3
   },
   "file_extension": ".py",
   "mimetype": "text/x-python",
   "name": "python",
   "nbconvert_exporter": "python",
   "pygments_lexer": "ipython3",
   "version": "3.9.12"
  }
 },
 "nbformat": 4,
 "nbformat_minor": 5
}
